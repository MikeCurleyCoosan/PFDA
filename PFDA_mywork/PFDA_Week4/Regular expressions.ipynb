{
 "cells": [
  {
   "cell_type": "markdown",
   "metadata": {},
   "source": [
    "# Regular expressions\n",
    "\n",
    "These exercises were taken from Unlock Python Regular Expressions -   by Mihai Catalin Teodosiu -Udemy"
   ]
  },
  {
   "cell_type": "markdown",
   "metadata": {},
   "source": [
    "### Working with bookshelf information with regular expressions."
   ]
  },
  {
   "cell_type": "code",
   "execution_count": 17,
   "metadata": {},
   "outputs": [
    {
     "name": "stdout",
     "output_type": "stream",
     "text": [
      "Terry-Thomas;Filling the Gap;1959\n",
      "Harpo Marx;Harpo Speaks;1961\n",
      "Charlie Chaplin;My Autobiography;1964\n",
      "Moe Howard;Moe Howard and the Three Stooges, AKA I Came, I Stooged, I Conquered (released posthumously);1974\n",
      "Sid Caesar;Where Have I Been?;1982\n",
      "Bill Cosby;Fatherhood;1986\n",
      "Mel Blanc;That's NOT All, Folks;1988\n",
      "Gilda Radner;It's Always Something;1989\n",
      "Richard Pryor;Pryor Convictions;1995\n",
      "Damon Wayans;Bootleg;1996\n",
      "Stephen Fry;Moab Is My Washpot;1997\n",
      "Jenny McCarthy;Jen-X: My Open Book;1997\n",
      "Chris Rock;Rock This;1997\n",
      "Sandra Bernhard;Confessions of a Pretty Lady;1998\n",
      "Danny Bonaduce;Random Acts of Badness;2001\n",
      "Fran Drescher;Cancer Schmancer;2002\n",
      "Alan Thicke;How Men Have Babies: a New Father's Survival Guide;2003\n",
      "Rodney Dangerfield;It's Not Easy Being Me: a Lifetime of No Respect But Plenty of Sex and Drugs;2004\n",
      "Tom Green;Hollywood Causes Cancer;2004\n",
      "Rik Mayall;Bigger Than Hitler & Better Than Christ;2005\n",
      "Tommy Chong;The I Chong: Meditations From the Joint;2006\n",
      "Alan Thicke;How to Raise Kids Who Won't Hate You;2006\n",
      "Steve Martin;Born Standing Up;2007\n",
      "Denis Leary;Why We Suck;2008\n",
      "Stephen Fry;Ernie: The Autobiography;2009\n",
      "Frankie Boyle;My Shit Life So Far;2009\n",
      "Craig Ferguson;American on Purpose;2009\n",
      "Todd Bridges;Killing Willis;2010\n",
      "Kevin Smith;Tough Sh*t: Life Advice from a Fat, Lazy Slob Who Still Made Good;2012\n",
      "Jimmie Walker;Dyn-o-mite!;2012\n",
      "Andrew Dice Clay;The Filthy Truth;2014\n",
      "John Cleese;So, Anyway...;2014\n",
      "Cheech Marin;Cheech Is Not My Real Name...But Don't Call Me Chong!;2017\n",
      "Eric Idle;Always Look On the Bright Side Of Life;2018\n"
     ]
    }
   ],
   "source": [
    "# Open the  bookshelf.txt file for reading\n",
    "\n",
    "with open('./data/bookshelf.txt', 'r') as f:\n",
    "    string = f.read()\n",
    "    \n",
    "print(string)"
   ]
  },
  {
   "cell_type": "code",
   "execution_count": 2,
   "metadata": {},
   "outputs": [],
   "source": [
    "import re"
   ]
  },
  {
   "cell_type": "code",
   "execution_count": 4,
   "metadata": {},
   "outputs": [
    {
     "name": "stdout",
     "output_type": "stream",
     "text": [
      "['Filling the Gap', 'Harpo Speaks', 'My Autobiography', 'Where Have I Been?', 'Fatherhood', \"That's NOT All, Folks\", \"It's Always Something\", 'Pryor Convictions', 'Bootleg', 'Moab Is My Washpot', 'Jen-X: My Open Book', 'Rock This', 'Random Acts of Badness', 'Cancer Schmancer', 'Hollywood Causes Cancer', 'Born Standing Up', 'Why We Suck', 'Ernie: The Autobiography', 'My Shit Life So Far', 'American on Purpose', 'Killing Willis', 'Dyn-o-mite!', 'The Filthy Truth', 'So, Anyway...']\n"
     ]
    }
   ],
   "source": [
    "#Match all authors whos book titles are shorter than 25 characters\n",
    "\n",
    "pattern = re.findall(r\".+?;(.{1,25});.+?\\n\", string)\n",
    "\n",
    "print(pattern)"
   ]
  },
  {
   "cell_type": "code",
   "execution_count": 6,
   "metadata": {},
   "outputs": [
    {
     "name": "stdout",
     "output_type": "stream",
     "text": [
      "['Danny Bonaduce', 'Fran Drescher', 'Alan Thicke', 'Rodney Dangerfield', 'Tom Green', 'Rik Mayall', 'Tommy Chong', 'Alan Thicke', 'Steve Martin', 'Denis Leary', 'Stephen Fry', 'Frankie Boyle', 'Craig Ferguson', 'Todd Bridges', 'Kevin Smith', 'Jimmie Walker', 'Andrew Dice Clay', 'John Cleese', 'Cheech Marin']\n"
     ]
    }
   ],
   "source": [
    "#Match all the Authors who have published their books after the year 2000\n",
    "\n",
    "pattern = re.findall(r\"(.+?);.+?;20[0-9][0-9]\\n\", string)\n",
    "\n",
    "print(pattern)"
   ]
  },
  {
   "cell_type": "code",
   "execution_count": 8,
   "metadata": {},
   "outputs": [
    {
     "name": "stdout",
     "output_type": "stream",
     "text": [
      "['Filling the Gap', 'Born Standing Up']\n"
     ]
    }
   ],
   "source": [
    "#Write a pattern that will match all the book titles in the file that end with the letter p.\n",
    "\n",
    "pattern = re.findall(r\".+?;(.+?p);.+?\\n\", string)\n",
    "\n",
    "print(pattern)"
   ]
  },
  {
   "cell_type": "code",
   "execution_count": 10,
   "metadata": {},
   "outputs": [
    {
     "name": "stdout",
     "output_type": "stream",
     "text": [
      "['Blanc', 'Bernhard', 'Bonaduce', 'Boyle', 'Bridges']\n"
     ]
    }
   ],
   "source": [
    "#Write a pattern that will match all the authors in the file whose last name starts with the letter B.\n",
    "\n",
    "pattern = re.findall(r\".+? (B.+?);.+?;.+?\", string)\n",
    "\n",
    "print(pattern)"
   ]
  },
  {
   "cell_type": "code",
   "execution_count": 12,
   "metadata": {},
   "outputs": [
    {
     "name": "stdout",
     "output_type": "stream",
     "text": [
      "['Where Have I Been?', 'Fatherhood', \"That's NOT All, Folks\", \"It's Always Something\", 'Pryor Convictions', 'Bootleg', 'Moab Is My Washpot', 'Jen-X: My Open Book', 'Rock This', 'Confessions of a Pretty Lady']\n"
     ]
    }
   ],
   "source": [
    "# Write a pattern that will match all the books in the file that have been published between 1980 and 1999.\n",
    "\n",
    "pattern = re.findall(r\".+?;(.+?);19[8-9][0-9]\\n\", string)\n",
    "\n",
    "print(pattern)"
   ]
  },
  {
   "cell_type": "markdown",
   "metadata": {},
   "source": [
    "### Working with phone numbers with regular expressions"
   ]
  },
  {
   "cell_type": "code",
   "execution_count": 22,
   "metadata": {},
   "outputs": [
    {
     "name": "stdout",
     "output_type": "stream",
     "text": [
      "Zion Martinez\t(631) 472-4834\n",
      "Moriah Velez\t(201) 684-8134\n",
      "Jenna Peterson\t(355) 554-9561\n",
      "Ayaan Novak\t(812) 883-7304\n",
      "Elena Sosa\t(504) 478-1208\n",
      "Taniyah Lucas\t(949) 304-4647\n",
      "Maritza Ramos\t(295) 931-1193\n",
      "Maryjane Velazquez\t(409) 441-2612\n",
      "Oliver Cooper\t(917) 965-9749\n",
      "Max Bridges\t(665) 245-0683\n",
      "Craig Sutton\t(783) 281-6115\n",
      "Emilie Good\t(608) 628-4088\n",
      "Alexis Rowe\t(357) 540-2991\n",
      "Maxwell Rose\t(366) 809-5605\n",
      "Davin Carroll\t(508) 291-1622\n",
      "Riya Foster\t(461) 532-0795\n",
      "Kymani Pena\t(366) 683-3252\n",
      "Josie Lloyd\t(676) 509-5720\n",
      "Amy Fowler\t(630) 821-5787\n",
      "Zion Strickland\t(443) 372-0040\n",
      "Jermaine Roy\t(576) 876-2490\n",
      "Sasha Duncan\t(379) 596-5662\n",
      "Guillermo Pacheco\t(922) 634-5795\n",
      "Mohammad Tapia\t(969) 831-7093\n",
      "Samir Mcdonald\t(546) 420-0881\n",
      "Sidney Mcdaniel\t(783) 705-9254\n",
      "Cameron Terry\t(540) 878-9323\n",
      "Kyla Waters\t(319) 523-8400\n",
      "Paloma Tyler\t(709) 788-9820\n",
      "Carolyn Peck\t(878) 309-5141\n",
      "Aliana Murillo\t(681) 897-9813\n",
      "Harold Stark\t(995) 575-6794\n",
      "Tomas Acevedo\t(526) 889-3684\n",
      "Jayla Whitney\t(790) 295-4491\n",
      "Linda Casey\t(596) 279-2188\n",
      "Shelby Gutierrez\t(266) 441-0506\n",
      "Scarlett Pugh\t(205) 887-2552\n",
      "Tobias Joseph\t(894) 486-4422\n",
      "Meadow Pennington\t(789) 483-7632\n",
      "Jeremy Tucker\t(768) 454-3347\n",
      "Giovani Hill\t(859) 512-3285\n",
      "Lorelei Chase\t(527) 510-6364\n",
      "Anabella Wolf\t(370) 917-1457\n",
      "Dominick Cobb\t(831) 874-8695\n",
      "Ismael Montoya\t(397) 258-5867\n",
      "Charles Santiago\t(804) 306-7622\n",
      "Eva Galvan\t(836) 732-4963\n",
      "Branden Cantu\t(862) 408-5783\n",
      "Patricia Dodson\t(685) 849-8192\n",
      "Marina Chan\t(600) 464-2106\n",
      "\n"
     ]
    }
   ],
   "source": [
    "#Open the phone.txt file for reading\n",
    "\n",
    "with open('./data/phone.txt', 'r') as f:\n",
    "    numbers = f.read()\n",
    "    print(numbers)"
   ]
  },
  {
   "cell_type": "code",
   "execution_count": 23,
   "metadata": {},
   "outputs": [
    {
     "name": "stdout",
     "output_type": "stream",
     "text": [
      "[('Fowler', '821-5787'), ('Terry', '878-9323'), ('Whitney', '295-4491'), ('Wolf', '917-1457'), ('Chan', '464-2106')]\n"
     ]
    }
   ],
   "source": [
    "# Write a pattern that will match all the Surnames of the people in the file whos area code ends with 0. The pattern will also show the number after the area code\n",
    "\n",
    "pattern = re.findall(r\".+? (.+?)\\t\\(\\d\\d0\\)\\s(.+)\", numbers)\n",
    "\n",
    "\n",
    "\n",
    "print(pattern)"
   ]
  },
  {
   "cell_type": "code",
   "execution_count": 27,
   "metadata": {},
   "outputs": [
    {
     "name": "stdout",
     "output_type": "stream",
     "text": [
      "['949', '630', '768', '370', '397']\n"
     ]
    }
   ],
   "source": [
    "#Get the area code of each phone number that ends with a seven.\n",
    "\n",
    "pattern = re.findall(r\".+?\\t\\((\\d{3})\\)\\s.{7}7\", numbers)\n",
    "\n",
    "print(pattern)\n"
   ]
  },
  {
   "cell_type": "code",
   "execution_count": 28,
   "metadata": {},
   "outputs": [
    {
     "name": "stdout",
     "output_type": "stream",
     "text": [
      "['Jenna Peterson', 'Taniyah Lucas', 'Maritza Ramos', 'Oliver Cooper', 'Alexis Rowe', 'Riya Foster', 'Josie Lloyd', 'Zion Strickland', 'Sasha Duncan', 'Sidney Mcdaniel', 'Kyla Waters', 'Paloma Tyler', 'Carolyn Peck', 'Harold Stark', 'Giovani Hill', 'Lorelei Chase', 'Anabella Wolf', 'Charles Santiago', 'Eva Galvan']\n"
     ]
    }
   ],
   "source": [
    "# Write a pattern that will match all the persons (first and last name) in the file whose phone number starts with an odd digit (1, 3, 5, 7, 9).\n",
    "\n",
    "result = re.findall(r\"(.+)\\t\\(\\d{3}\\) [13579].{7}\", numbers)\n",
    "\n",
    "print(result)"
   ]
  },
  {
   "cell_type": "code",
   "execution_count": 29,
   "metadata": {},
   "outputs": [
    {
     "name": "stdout",
     "output_type": "stream",
     "text": [
      "['Moriah', 'Maritza', 'Shelby', 'Scarlett']\n"
     ]
    }
   ],
   "source": [
    "# Write a pattern that will match all the persons (first name only) in the file whose area code is a number less than 300.\n",
    "\n",
    "result = re.findall(r\"(.+) .+\\t\\([0-2]\\d\\d\\) .{8}\", numbers)\n",
    "\n",
    "print(result)\n"
   ]
  },
  {
   "cell_type": "code",
   "execution_count": 30,
   "metadata": {},
   "outputs": [
    {
     "name": "stdout",
     "output_type": "stream",
     "text": [
      "['Ismael']\n"
     ]
    }
   ],
   "source": [
    "#  Write a pattern that will match all the persons (first name only) in the file whose last name ends in a vowel (aeiou) and phone number ends in either 0, 7 or 9.\n",
    "\n",
    "result = re.findall(r\"(.+) .+[aeiou]\\t\\(\\d{3}\\) .{7}[079]\", numbers)\n",
    "\n",
    "print(result)\n"
   ]
  },
  {
   "cell_type": "markdown",
   "metadata": {},
   "source": [
    "### Working with time and date/logfiles with regular expressions"
   ]
  },
  {
   "cell_type": "code",
   "execution_count": 31,
   "metadata": {},
   "outputs": [
    {
     "name": "stdout",
     "output_type": "stream",
     "text": [
      "Level Date and Time Source Event ID Task Category\n",
      "Critical 1/27/2020 8:19:22 AM Microsoft-Windows-Kernel-Power 41 (63) The system has rebooted without cleanly shutting down first. This error could be caused if the system stopped responding, crashed, or lost power unexpectedly.\n",
      "Critical 1/26/2020 10:09:54 AM Microsoft-Windows-Kernel-Power 41 (63) The system has rebooted without cleanly shutting down first. This error could be caused if the system stopped responding, crashed, or lost power unexpectedly.\n",
      "Critical 1/25/2020 10:12:58 AM Microsoft-Windows-Kernel-Power 41 (63) The system has rebooted without cleanly shutting down first. This error could be caused if the system stopped responding, crashed, or lost power unexpectedly.\n",
      "Error 1/25/2020 10:03:44 AM Microsoft-Windows-WER-SystemErrorReporting 1001 None The computer has rebooted from a bugcheck.  The bugcheck was: 0x0000009f (0x0000000000000003, 0xffff810ec8c31060, 0xfffff80716e687b0, 0xffff810ed30e3c20). A dump was saved in: C:\\WINDOWS\\MEMORY.DMP. Report Id: 7fcfb77c-e4b0-4e3b-b4c7-af9dafdafc7f.\n",
      "Error 1/25/2020 10:03:29 AM TPM 15 None The device driver for the Trusted Platform Module (TPM) encountered a non-recoverable error in the TPM hardware, which prevents TPM services (such as data encryption) from being used. For further help, please contact the computer manufacturer.\n",
      "Critical 1/25/2020 10:03:28 AM Microsoft-Windows-Kernel-Power 41 (63) The system has rebooted without cleanly shutting down first. This error could be caused if the system stopped responding, crashed, or lost power unexpectedly.\n",
      "Critical 1/24/2020 8:04:10 AM Microsoft-Windows-Kernel-Power 41 (63) The system has rebooted without cleanly shutting down first. This error could be caused if the system stopped responding, crashed, or lost power unexpectedly.\n",
      "Error 1/24/2020 8:04:08 AM Microsoft-Windows-Kernel-Boot 29 None Windows failed fast startup with error status 0xC0000001.\n",
      "Error 1/23/2020 11:53:41 PM Microsoft-Windows-DistributedCOM 10010 None The server {4AA0A5C4-1B9B-4F2E-99D7-99C6AEC83474} did not register with DCOM within the required timeout.\n",
      "Critical 1/23/2020 7:59:27 AM Microsoft-Windows-Kernel-Power 41 (63) The system has rebooted without cleanly shutting down first. This error could be caused if the system stopped responding, crashed, or lost power unexpectedly.\n",
      "Error 1/23/2020 7:59:33 AM EventLog 6008 None The previous system shutdown at 12:10:13 AM on ‎1/‎23/‎2020 was unexpected.\n",
      "Error 1/23/2020 7:59:25 AM Microsoft-Windows-Kernel-Boot 29 None Windows failed fast startup with error status 0xC0000001.\n",
      "Error 1/23/2020 12:19:14 AM Microsoft-Windows-DistributedCOM 10010 None The server {4AA0A5C4-1B9B-4F2E-99D7-99C6AEC83474} did not register with DCOM within the required timeout.\n",
      "Critical 1/22/2020 7:40:49 AM Microsoft-Windows-Kernel-Power 41 (63) The system has rebooted without cleanly shutting down first. This error could be caused if the system stopped responding, crashed, or lost power unexpectedly.\n",
      "Error 1/22/2020 7:40:46 AM Microsoft-Windows-Kernel-Boot 29 None Windows failed fast startup with error status 0xC0000001.\n",
      "Error 1/22/2020 7:40:55 AM EventLog 6008 None The previous system shutdown at 11:50:39 PM on ‎1/‎21/‎2020 was unexpected.\n",
      "Error 1/22/2020 12:03:05 AM Microsoft-Windows-DistributedCOM 10010 None The server {4AA0A5C4-1B9B-4F2E-99D7-99C6AEC83474} did not register with DCOM within the required timeout.\n",
      "Error 1/21/2020 8:31:51 AM Service Control Manager 7000 None \"The Steam Client Service service failed to start due to the following error: \n",
      "The service did not respond to the start or control request in a timely fashion.\"\n",
      "Error 1/21/2020 8:31:51 AM Service Control Manager 7009 None A timeout was reached (30000 milliseconds) while waiting for the Steam Client Service service to connect.\n",
      "Error 1/21/2020 8:31:39 AM Tcpip 4207 None The IPv6 TCP/IP interface with index 13 failed to bind to its provider.\n",
      "Error 1/21/2020 8:30:48 AM Microsoft-Windows-WER-SystemErrorReporting 1001 None The computer has rebooted from a bugcheck.  The bugcheck was: 0x0000009f (0x0000000000000003, 0xffffb8870de1f060, 0xffffb58e3fa3f7b0, 0xffffb88716aad010). A dump was saved in: C:\\WINDOWS\\MEMORY.DMP. Report Id: d5492e55-b096-4be9-8946-79606b0b7df2.\n",
      "Error 1/21/2020 8:30:34 AM TPM 15 None The device driver for the Trusted Platform Module (TPM) encountered a non-recoverable error in the TPM hardware, which prevents TPM services (such as data encryption) from being used. For further help, please contact the computer manufacturer.\n",
      "Critical 1/21/2020 8:30:30 AM Microsoft-Windows-Kernel-Power 41 (63) The system has rebooted without cleanly shutting down first. This error could be caused if the system stopped responding, crashed, or lost power unexpectedly.\n",
      "Error 1/21/2020 8:30:28 AM Microsoft-Windows-Kernel-Boot 29 None Windows failed fast startup with error status 0xC0000001.\n",
      "Error 1/21/2020 8:30:39 AM EventLog 6008 None The previous system shutdown at 11:55:06 PM on ‎1/‎20/‎2020 was unexpected.\n",
      "Error 1/20/2020 10:56:01 AM Tcpip 4207 None The IPv6 TCP/IP interface with index 13 failed to bind to its provider.\n",
      "Error 1/20/2020 10:56:01 AM Tcpip 4207 None The IPv4 TCP/IP interface with index 13 failed to bind to its provider.\n",
      "Error 1/20/2020 10:55:24 AM TPM 15 None The device driver for the Trusted Platform Module (TPM) encountered a non-recoverable error in the TPM hardware, which prevents TPM services (such as data encryption) from being used. For further help, please contact the computer manufacturer.\n",
      "Critical 1/20/2020 10:55:22 AM Microsoft-Windows-Kernel-Power 41 (63) The system has rebooted without cleanly shutting down first. This error could be caused if the system stopped responding, crashed, or lost power unexpectedly.\n",
      "Critical 1/20/2020 8:41:34 AM Microsoft-Windows-Kernel-Power 41 (63) The system has rebooted without cleanly shutting down first. This error could be caused if the system stopped responding, crashed, or lost power unexpectedly.\n",
      "Error 1/19/2020 4:23:56 PM Tcpip 4207 None The IPv6 TCP/IP interface with index 13 failed to bind to its provider.\n",
      "Error 1/19/2020 4:23:38 PM Microsoft-Windows-WER-SystemErrorReporting 1001 None The computer has rebooted from a bugcheck.  The bugcheck was: 0x0000009f (0x0000000000000003, 0xffff9588ada3f060, 0xfffff80082e687b0, 0xffff9588b8778c30). A dump was saved in: C:\\WINDOWS\\MEMORY.DMP. Report Id: cea4bd76-9e35-4798-9ea7-6c027be9f1ef.\n",
      "Error 1/19/2020 4:23:05 PM TPM 15 None The device driver for the Trusted Platform Module (TPM) encountered a non-recoverable error in the TPM hardware, which prevents TPM services (such as data encryption) from being used. For further help, please contact the computer manufacturer.\n",
      "Critical 1/19/2020 4:23:04 PM Microsoft-Windows-Kernel-Power 41 (63) The system has rebooted without cleanly shutting down first. This error could be caused if the system stopped responding, crashed, or lost power unexpectedly.\n",
      "Error 1/19/2020 4:23:01 PM Microsoft-Windows-Kernel-Boot 29 None Windows failed fast startup with error status 0xC0000001.\n",
      "Error 1/19/2020 4:23:10 PM EventLog 6008 None The previous system shutdown at 5:15:31 PM on ‎1/‎17/‎2020 was unexpected.\n",
      "Error 1/17/2020 7:56:41 AM Tcpip 4207 None The IPv6 TCP/IP interface with index 13 failed to bind to its provider.\n",
      "Error 1/17/2020 7:55:40 AM Microsoft-Windows-WER-SystemErrorReporting 1001 None The computer has rebooted from a bugcheck.  The bugcheck was: 0x0000009f (0x0000000000000003, 0xffffb40fae2b4060, 0xfffff80641e687b0, 0xffffb40fb601b260). A dump was saved in: C:\\WINDOWS\\MEMORY.DMP. Report Id: e879c596-b5c3-422f-a6ad-3718b06c410e.\n",
      "Error 1/17/2020 7:55:26 AM TPM 15 None The device driver for the Trusted Platform Module (TPM) encountered a non-recoverable error in the TPM hardware, which prevents TPM services (such as data encryption) from being used. For further help, please contact the computer manufacturer.\n",
      "Critical 1/17/2020 7:55:24 AM Microsoft-Windows-Kernel-Power 41 (63) The system has rebooted without cleanly shutting down first. This error could be caused if the system stopped responding, crashed, or lost power unexpectedly.\n",
      "Error 1/16/2020 9:34:28 AM Tcpip 4207 None The IPv6 TCP/IP interface with index 13 failed to bind to its provider.\n",
      "Error 1/16/2020 9:32:59 AM Microsoft-Windows-WER-SystemErrorReporting 1001 None The computer has rebooted from a bugcheck.  The bugcheck was: 0x0000009f (0x0000000000000003, 0xffffad0ab1852060, 0xffffac070e03f7b0, 0xffffad0ab47819a0). A dump was saved in: C:\\WINDOWS\\MEMORY.DMP. Report Id: 5203e737-299c-40bd-aeb2-13e3c9f010c0.\n",
      "Error 1/16/2020 9:32:45 AM TPM 15 None The device driver for the Trusted Platform Module (TPM) encountered a non-recoverable error in the TPM hardware, which prevents TPM services (such as data encryption) from being used. For further help, please contact the computer manufacturer.\n",
      "Critical 1/16/2020 9:32:44 AM Microsoft-Windows-Kernel-Power 41 (63) The system has rebooted without cleanly shutting down first. This error could be caused if the system stopped responding, crashed, or lost power unexpectedly.\n",
      "Error 1/15/2020 3:34:14 PM TPM 15 None The device driver for the Trusted Platform Module (TPM) encountered a non-recoverable error in the TPM hardware, which prevents TPM services (such as data encryption) from being used. For further help, please contact the computer manufacturer.\n",
      "Error 1/15/2020 7:17:10 AM VBoxNetLwf 12 None The driver detected an internal driver error on \\Device\\VBoxNetLwf.\n",
      "Critical 1/15/2020 7:17:10 AM Microsoft-Windows-Kernel-Power 41 (63) The system has rebooted without cleanly shutting down first. This error could be caused if the system stopped responding, crashed, or lost power unexpectedly.\n",
      "Critical 1/14/2020 6:49:47 AM Microsoft-Windows-Kernel-Power 41 (63) The system has rebooted without cleanly shutting down first. This error could be caused if the system stopped responding, crashed, or lost power unexpectedly.\n"
     ]
    }
   ],
   "source": [
    "#Workiing with time and date information\n",
    "#Open the logs.txt file for reading\n",
    "\n",
    "with open('./data/logs.txt', 'r') as f:\n",
    "    logs = f.read()\n",
    "    print(logs)\n",
    "    \n",
    "\n"
   ]
  },
  {
   "cell_type": "code",
   "execution_count": 32,
   "metadata": {},
   "outputs": [
    {
     "name": "stdout",
     "output_type": "stream",
     "text": [
      "['Microsoft-Windows-Kernel-Power', 'Microsoft-Windows-Kernel-Power', 'Microsoft-Windows-Kernel-Power']\n"
     ]
    }
   ],
   "source": [
    "# Write a pattern that will match all critical errors in the log file between the 11st and 16th of Jannuary 2020 and extract the source part of the log\n",
    "\n",
    "source = re.findall(r\"Critical 1/1[1-6]/2020 .+ [A-Z]{2} (.+?) \\d+\", logs)\n",
    "\n",
    "print(source)\n"
   ]
  },
  {
   "cell_type": "code",
   "execution_count": 34,
   "metadata": {},
   "outputs": [
    {
     "name": "stdout",
     "output_type": "stream",
     "text": [
      "[]\n"
     ]
    }
   ],
   "source": [
    "# Write a pattern that will match the Source substring of all the log entries that were generated after 12 PM and before 4 PM, regardless of the severity level and the date.\n",
    "\n",
    "result = re.findall(r\".+ [1-3]:\\d\\d:\\d\\d PM [A-Z]{2} (.+?) \\d+\", logs)\n",
    "\n",
    "print(result)\n"
   ]
  },
  {
   "cell_type": "code",
   "execution_count": null,
   "metadata": {},
   "outputs": [],
   "source": []
  }
 ],
 "metadata": {
  "kernelspec": {
   "display_name": "base",
   "language": "python",
   "name": "python3"
  },
  "language_info": {
   "codemirror_mode": {
    "name": "ipython",
    "version": 3
   },
   "file_extension": ".py",
   "mimetype": "text/x-python",
   "name": "python",
   "nbconvert_exporter": "python",
   "pygments_lexer": "ipython3",
   "version": "3.11.7"
  }
 },
 "nbformat": 4,
 "nbformat_minor": 2
}
