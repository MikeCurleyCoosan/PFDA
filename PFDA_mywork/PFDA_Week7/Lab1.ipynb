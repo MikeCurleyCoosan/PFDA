{
 "cells": [
  {
   "cell_type": "markdown",
   "metadata": {},
   "source": [
    "# Import the required libraries"
   ]
  },
  {
   "cell_type": "code",
   "execution_count": 1,
   "metadata": {},
   "outputs": [],
   "source": [
    "import pandas as pd\n",
    "import numpy as np\n",
    "import matplotlib.pyplot as plt\n",
    "import seaborn as sns"
   ]
  },
  {
   "cell_type": "code",
   "execution_count": 12,
   "metadata": {},
   "outputs": [
    {
     "data": {
      "text/html": [
       "<div>\n",
       "<style scoped>\n",
       "    .dataframe tbody tr th:only-of-type {\n",
       "        vertical-align: middle;\n",
       "    }\n",
       "\n",
       "    .dataframe tbody tr th {\n",
       "        vertical-align: top;\n",
       "    }\n",
       "\n",
       "    .dataframe thead th {\n",
       "        text-align: right;\n",
       "    }\n",
       "</style>\n",
       "<table border=\"1\" class=\"dataframe\">\n",
       "  <thead>\n",
       "    <tr style=\"text-align: right;\">\n",
       "      <th></th>\n",
       "      <th>year</th>\n",
       "      <th>month</th>\n",
       "      <th>meant</th>\n",
       "      <th>maxtp</th>\n",
       "      <th>mintp</th>\n",
       "      <th>mnmax</th>\n",
       "      <th>mnmin</th>\n",
       "      <th>rain</th>\n",
       "      <th>gmin</th>\n",
       "      <th>wdsp</th>\n",
       "      <th>maxgt</th>\n",
       "      <th>sun</th>\n",
       "    </tr>\n",
       "  </thead>\n",
       "  <tbody>\n",
       "    <tr>\n",
       "      <th>0</th>\n",
       "      <td>1996</td>\n",
       "      <td>8</td>\n",
       "      <td>13.4</td>\n",
       "      <td>20.4</td>\n",
       "      <td>7.3</td>\n",
       "      <td>16.6</td>\n",
       "      <td>10.3</td>\n",
       "      <td>109.4</td>\n",
       "      <td>5.3</td>\n",
       "      <td>8.3</td>\n",
       "      <td>34.0</td>\n",
       "      <td>NaN</td>\n",
       "    </tr>\n",
       "    <tr>\n",
       "      <th>1</th>\n",
       "      <td>1996</td>\n",
       "      <td>10</td>\n",
       "      <td>9.7</td>\n",
       "      <td>NaN</td>\n",
       "      <td>NaN</td>\n",
       "      <td>12.5</td>\n",
       "      <td>7.0</td>\n",
       "      <td>NaN</td>\n",
       "      <td>NaN</td>\n",
       "      <td>NaN</td>\n",
       "      <td>NaN</td>\n",
       "      <td>NaN</td>\n",
       "    </tr>\n",
       "    <tr>\n",
       "      <th>2</th>\n",
       "      <td>1996</td>\n",
       "      <td>11</td>\n",
       "      <td>5.0</td>\n",
       "      <td>NaN</td>\n",
       "      <td>NaN</td>\n",
       "      <td>7.6</td>\n",
       "      <td>2.5</td>\n",
       "      <td>NaN</td>\n",
       "      <td>NaN</td>\n",
       "      <td>NaN</td>\n",
       "      <td>NaN</td>\n",
       "      <td>NaN</td>\n",
       "    </tr>\n",
       "    <tr>\n",
       "      <th>3</th>\n",
       "      <td>1996</td>\n",
       "      <td>12</td>\n",
       "      <td>3.1</td>\n",
       "      <td>10.7</td>\n",
       "      <td>-4.0</td>\n",
       "      <td>5.2</td>\n",
       "      <td>1.1</td>\n",
       "      <td>NaN</td>\n",
       "      <td>-5.3</td>\n",
       "      <td>9.4</td>\n",
       "      <td>48.0</td>\n",
       "      <td>NaN</td>\n",
       "    </tr>\n",
       "    <tr>\n",
       "      <th>4</th>\n",
       "      <td>1997</td>\n",
       "      <td>1</td>\n",
       "      <td>3.4</td>\n",
       "      <td>10.7</td>\n",
       "      <td>-3.9</td>\n",
       "      <td>5.2</td>\n",
       "      <td>1.6</td>\n",
       "      <td>26.0</td>\n",
       "      <td>-5.2</td>\n",
       "      <td>8.0</td>\n",
       "      <td>40.0</td>\n",
       "      <td>42.1</td>\n",
       "    </tr>\n",
       "    <tr>\n",
       "      <th>5</th>\n",
       "      <td>1997</td>\n",
       "      <td>2</td>\n",
       "      <td>5.0</td>\n",
       "      <td>10.5</td>\n",
       "      <td>-0.5</td>\n",
       "      <td>8.0</td>\n",
       "      <td>1.9</td>\n",
       "      <td>189.6</td>\n",
       "      <td>-4.5</td>\n",
       "      <td>15.0</td>\n",
       "      <td>58.0</td>\n",
       "      <td>58.9</td>\n",
       "    </tr>\n",
       "    <tr>\n",
       "      <th>6</th>\n",
       "      <td>1997</td>\n",
       "      <td>3</td>\n",
       "      <td>6.9</td>\n",
       "      <td>12.6</td>\n",
       "      <td>-1.5</td>\n",
       "      <td>9.9</td>\n",
       "      <td>3.8</td>\n",
       "      <td>80.8</td>\n",
       "      <td>-4.2</td>\n",
       "      <td>11.3</td>\n",
       "      <td>58.0</td>\n",
       "      <td>91.7</td>\n",
       "    </tr>\n",
       "    <tr>\n",
       "      <th>7</th>\n",
       "      <td>1997</td>\n",
       "      <td>4</td>\n",
       "      <td>8.9</td>\n",
       "      <td>17.3</td>\n",
       "      <td>1.0</td>\n",
       "      <td>12.4</td>\n",
       "      <td>5.3</td>\n",
       "      <td>47.3</td>\n",
       "      <td>-1.9</td>\n",
       "      <td>7.8</td>\n",
       "      <td>40.0</td>\n",
       "      <td>117.3</td>\n",
       "    </tr>\n",
       "    <tr>\n",
       "      <th>8</th>\n",
       "      <td>1997</td>\n",
       "      <td>5</td>\n",
       "      <td>10.5</td>\n",
       "      <td>23.9</td>\n",
       "      <td>-0.7</td>\n",
       "      <td>14.7</td>\n",
       "      <td>6.4</td>\n",
       "      <td>83.1</td>\n",
       "      <td>-2.0</td>\n",
       "      <td>8.5</td>\n",
       "      <td>42.0</td>\n",
       "      <td>200.5</td>\n",
       "    </tr>\n",
       "    <tr>\n",
       "      <th>9</th>\n",
       "      <td>1997</td>\n",
       "      <td>6</td>\n",
       "      <td>11.6</td>\n",
       "      <td>19.1</td>\n",
       "      <td>4.0</td>\n",
       "      <td>14.9</td>\n",
       "      <td>8.4</td>\n",
       "      <td>98.0</td>\n",
       "      <td>3.1</td>\n",
       "      <td>9.9</td>\n",
       "      <td>42.0</td>\n",
       "      <td>137.6</td>\n",
       "    </tr>\n",
       "  </tbody>\n",
       "</table>\n",
       "</div>"
      ],
      "text/plain": [
       "   year  month  meant  maxtp  mintp  mnmax  mnmin   rain  gmin  wdsp  maxgt  \\\n",
       "0  1996      8   13.4   20.4    7.3   16.6   10.3  109.4   5.3   8.3   34.0   \n",
       "1  1996     10    9.7    NaN    NaN   12.5    7.0    NaN   NaN   NaN    NaN   \n",
       "2  1996     11    5.0    NaN    NaN    7.6    2.5    NaN   NaN   NaN    NaN   \n",
       "3  1996     12    3.1   10.7   -4.0    5.2    1.1    NaN  -5.3   9.4   48.0   \n",
       "4  1997      1    3.4   10.7   -3.9    5.2    1.6   26.0  -5.2   8.0   40.0   \n",
       "5  1997      2    5.0   10.5   -0.5    8.0    1.9  189.6  -4.5  15.0   58.0   \n",
       "6  1997      3    6.9   12.6   -1.5    9.9    3.8   80.8  -4.2  11.3   58.0   \n",
       "7  1997      4    8.9   17.3    1.0   12.4    5.3   47.3  -1.9   7.8   40.0   \n",
       "8  1997      5   10.5   23.9   -0.7   14.7    6.4   83.1  -2.0   8.5   42.0   \n",
       "9  1997      6   11.6   19.1    4.0   14.9    8.4   98.0   3.1   9.9   42.0   \n",
       "\n",
       "     sun  \n",
       "0    NaN  \n",
       "1    NaN  \n",
       "2    NaN  \n",
       "3    NaN  \n",
       "4   42.1  \n",
       "5   58.9  \n",
       "6   91.7  \n",
       "7  117.3  \n",
       "8  200.5  \n",
       "9  137.6  "
      ]
     },
     "execution_count": 12,
     "metadata": {},
     "output_type": "execute_result"
    }
   ],
   "source": [
    "# Load the dataset\n",
    "\n",
    "df = pd.read_csv('./Data/mly4935.csv', skiprows=19, skipinitialspace=True)\n",
    "df.head(10)"
   ]
  },
  {
   "cell_type": "code",
   "execution_count": 9,
   "metadata": {},
   "outputs": [
    {
     "name": "stdout",
     "output_type": "stream",
     "text": [
      "0.2610020102262302\n"
     ]
    }
   ],
   "source": [
    "# Check for correlation between mean temperature and the month of the year\n",
    "corrTemp = df['month'].corr(df['meant'])\n",
    "print(corrTemp)"
   ]
  },
  {
   "cell_type": "code",
   "execution_count": 10,
   "metadata": {},
   "outputs": [
    {
     "name": "stdout",
     "output_type": "stream",
     "text": [
      "<class 'pandas.core.frame.DataFrame'>\n",
      "RangeIndex: 338 entries, 0 to 337\n",
      "Data columns (total 12 columns):\n",
      " #   Column  Non-Null Count  Dtype  \n",
      "---  ------  --------------  -----  \n",
      " 0   year    338 non-null    int64  \n",
      " 1   month   338 non-null    int64  \n",
      " 2   meant   338 non-null    float64\n",
      " 3   maxtp   336 non-null    float64\n",
      " 4   mintp   336 non-null    float64\n",
      " 5   mnmax   338 non-null    float64\n",
      " 6   mnmin   338 non-null    float64\n",
      " 7   rain    335 non-null    float64\n",
      " 8   gmin    336 non-null    float64\n",
      " 9   wdsp    336 non-null    float64\n",
      " 10  maxgt   333 non-null    float64\n",
      " 11  sun     279 non-null    float64\n",
      "dtypes: float64(10), int64(2)\n",
      "memory usage: 31.8 KB\n"
     ]
    }
   ],
   "source": [
    "#Apparently very little correlation. However, we can see that the mean temperature columen is missing data.\n",
    "\n",
    "# Check for missing data\n",
    "df.info()"
   ]
  },
  {
   "cell_type": "code",
   "execution_count": 11,
   "metadata": {},
   "outputs": [
    {
     "data": {
      "text/plain": [
       "year      0\n",
       "month     0\n",
       "meant     0\n",
       "maxtp     2\n",
       "mintp     2\n",
       "mnmax     0\n",
       "mnmin     0\n",
       "rain      3\n",
       "gmin      2\n",
       "wdsp      2\n",
       "maxgt     5\n",
       "sun      59\n",
       "dtype: int64"
      ]
     },
     "execution_count": 11,
     "metadata": {},
     "output_type": "execute_result"
    }
   ],
   "source": [
    "df.isnull().sum()"
   ]
  },
  {
   "cell_type": "code",
   "execution_count": null,
   "metadata": {},
   "outputs": [
    {
     "name": "stdout",
     "output_type": "stream",
     "text": [
      "   month  wdsp\n",
      "0      8   8.3\n",
      "1     10   NaN\n",
      "2     11   NaN\n",
      "3     12   9.4\n",
      "4      1   8.0\n",
      "5      2  15.0\n",
      "6      3  11.3\n",
      "7      4   7.8\n",
      "8      5   8.5\n",
      "9      6   9.9\n"
     ]
    },
    {
     "name": "stderr",
     "output_type": "stream",
     "text": [
      "C:\\Users\\micha\\AppData\\Local\\Temp\\ipykernel_32136\\1610414342.py:9: SettingWithCopyWarning: \n",
      "A value is trying to be set on a copy of a slice from a DataFrame\n",
      "\n",
      "See the caveats in the documentation: https://pandas.pydata.org/pandas-docs/stable/user_guide/indexing.html#returning-a-view-versus-a-copy\n",
      "  cleaned_df = tidy_df.dropna(inplace=True)\n"
     ]
    },
    {
     "ename": "AttributeError",
     "evalue": "'NoneType' object has no attribute 'head'",
     "output_type": "error",
     "traceback": [
      "\u001b[1;31m---------------------------------------------------------------------------\u001b[0m",
      "\u001b[1;31mAttributeError\u001b[0m                            Traceback (most recent call last)",
      "Cell \u001b[1;32mIn[26], line 12\u001b[0m\n\u001b[0;32m      9\u001b[0m cleaned_df \u001b[38;5;241m=\u001b[39m tidy_df\u001b[38;5;241m.\u001b[39mdropna(inplace\u001b[38;5;241m=\u001b[39m\u001b[38;5;28;01mTrue\u001b[39;00m)\n\u001b[0;32m     10\u001b[0m \u001b[38;5;66;03m#Inplace=True will modify the dataframe directly\u001b[39;00m\n\u001b[1;32m---> 12\u001b[0m \u001b[38;5;28mprint\u001b[39m(cleaned_df\u001b[38;5;241m.\u001b[39mhead(\u001b[38;5;241m10\u001b[39m))\n\u001b[0;32m     14\u001b[0m \u001b[38;5;66;03m#Check for missing data again\u001b[39;00m\n\u001b[0;32m     15\u001b[0m cleaned_df\u001b[38;5;241m.\u001b[39misnull()\u001b[38;5;241m.\u001b[39msum()\n",
      "\u001b[1;31mAttributeError\u001b[0m: 'NoneType' object has no attribute 'head'"
     ]
    }
   ],
   "source": [
    "# take out the columns of interest to us\n",
    "\n",
    "cleaned_df = df[['month', 'wdsp']]\n",
    "\n",
    "print(cleaned_df.head(10))\n",
    "\n",
    "#Drop the rows with missing data\n",
    "\n",
    "cleaned_df = cleaned_df.dropna(inplace=True)\n",
    "#Inplace=True will modify the dataframe directly\n",
    "\n",
    "print(cleaned_df.head(10))\n",
    "\n",
    "#Check for missing data again\n",
    "cleaned_df.isnull().sum()"
   ]
  },
  {
   "cell_type": "code",
   "execution_count": null,
   "metadata": {},
   "outputs": [],
   "source": []
  }
 ],
 "metadata": {
  "kernelspec": {
   "display_name": "base",
   "language": "python",
   "name": "python3"
  },
  "language_info": {
   "codemirror_mode": {
    "name": "ipython",
    "version": 3
   },
   "file_extension": ".py",
   "mimetype": "text/x-python",
   "name": "python",
   "nbconvert_exporter": "python",
   "pygments_lexer": "ipython3",
   "version": "3.11.5"
  }
 },
 "nbformat": 4,
 "nbformat_minor": 2
}
