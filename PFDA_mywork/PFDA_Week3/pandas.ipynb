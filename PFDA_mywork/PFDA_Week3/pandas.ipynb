{
 "cells": [
  {
   "cell_type": "markdown",
   "metadata": {},
   "source": [
    "# A review of Pandas\n",
    "\n",
    "Notes taken from the Ultimate Pandas Bootcamp: Advanced Python Data Analysis"
   ]
  },
  {
   "cell_type": "code",
   "execution_count": 2,
   "metadata": {},
   "outputs": [
    {
     "data": {
      "text/plain": [
       "list"
      ]
     },
     "execution_count": 2,
     "metadata": {},
     "output_type": "execute_result"
    }
   ],
   "source": [
    "# create a python list of students in the class\n",
    "students = ['Andrew', 'Brie', 'Kanika']\n",
    "\n",
    "# confirm that the variable students is a list\n",
    "type(students)"
   ]
  },
  {
   "cell_type": "code",
   "execution_count": 3,
   "metadata": {},
   "outputs": [
    {
     "data": {
      "text/plain": [
       "0    Andrew\n",
       "1      Brie\n",
       "2    Kanika\n",
       "dtype: object"
      ]
     },
     "execution_count": 3,
     "metadata": {},
     "output_type": "execute_result"
    }
   ],
   "source": [
    "#We can convert this list to a pandas series using the pd.Series() function\n",
    "import pandas as pd\n",
    "\n",
    "students_series = pd.Series(students)\n",
    "#show the series\n",
    "students_series"
   ]
  },
  {
   "cell_type": "code",
   "execution_count": 4,
   "metadata": {},
   "outputs": [
    {
     "data": {
      "text/plain": [
       "['Tom Hanks', 'Meryl Streep', 'Denzel Washington']"
      ]
     },
     "execution_count": 4,
     "metadata": {},
     "output_type": "execute_result"
    }
   ],
   "source": [
    "#Challenge: Create a python list that contains the names of your favourite actors. Call this variable actor_names\n",
    "\n",
    "actor_names = ['Tom Hanks', 'Meryl Streep', 'Denzel Washington']\n",
    "\n",
    "#Show the list\n",
    "actor_names"
   ]
  },
  {
   "cell_type": "code",
   "execution_count": 5,
   "metadata": {},
   "outputs": [
    {
     "data": {
      "text/plain": [
       "[63, 69, 64]"
      ]
     },
     "execution_count": 5,
     "metadata": {},
     "output_type": "execute_result"
    }
   ],
   "source": [
    "# Next: Create another python list that contains the ages of the actors in the actor_names list. Call this variable actor_ages\n",
    "\n",
    "actor_ages = [63, 69, 64]\n",
    "\n",
    "#Show the list\n",
    "actor_ages\n"
   ]
  },
  {
   "cell_type": "code",
   "execution_count": 6,
   "metadata": {},
   "outputs": [
    {
     "data": {
      "text/plain": [
       "Tom Hanks            63\n",
       "Meryl Streep         69\n",
       "Denzel Washington    64\n",
       "dtype: int64"
      ]
     },
     "execution_count": 6,
     "metadata": {},
     "output_type": "execute_result"
    }
   ],
   "source": [
    "# Now create a pandas series that stores the ages of the actors and labels the series with the names of the actors. Call this variable actors\n",
    "\n",
    "actors = pd.Series(actor_ages, index=actor_names)\n",
    "\n",
    "#Show the series\n",
    "actors\n"
   ]
  },
  {
   "cell_type": "code",
   "execution_count": 7,
   "metadata": {},
   "outputs": [
    {
     "data": {
      "text/plain": [
       "Tom Hanks            63\n",
       "Meryl Streep         69\n",
       "Denzel Washington    64\n",
       "dtype: int64"
      ]
     },
     "execution_count": 7,
     "metadata": {},
     "output_type": "execute_result"
    }
   ],
   "source": [
    "# Repeat the above step, but this time create the seires from a python dictionary. \n",
    "# Dynamically create a dictionary from the actor_names and actor_ages lists. Call this variable actors_dict\n",
    "\n",
    "actors_dict = dict(zip(actor_names, actor_ages))    # zip() function is used to combine two lists into a dictionary\n",
    "\n",
    "# Create a pandas series from the actors_dict dictionary. Call this variable actors_from_dict\n",
    "\n",
    "actors_from_dict = pd.Series(actors_dict)\n",
    "\n",
    "#Show the series\n",
    "actors_from_dict\n"
   ]
  },
  {
   "cell_type": "code",
   "execution_count": null,
   "metadata": {},
   "outputs": [],
   "source": []
  }
 ],
 "metadata": {
  "kernelspec": {
   "display_name": "base",
   "language": "python",
   "name": "python3"
  },
  "language_info": {
   "codemirror_mode": {
    "name": "ipython",
    "version": 3
   },
   "file_extension": ".py",
   "mimetype": "text/x-python",
   "name": "python",
   "nbconvert_exporter": "python",
   "pygments_lexer": "ipython3",
   "version": "3.11.5"
  }
 },
 "nbformat": 4,
 "nbformat_minor": 2
}
