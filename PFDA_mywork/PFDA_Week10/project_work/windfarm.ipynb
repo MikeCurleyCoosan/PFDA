{
 "cells": [
  {
   "cell_type": "markdown",
   "metadata": {},
   "source": [
    "### Import the weather information for a number of weather stations.\n",
    "\n"
   ]
  },
  {
   "cell_type": "code",
   "execution_count": 1,
   "metadata": {},
   "outputs": [],
   "source": [
    "import pandas as pd\n",
    "import numpy as np\n",
    "import mysql.connector\n",
    "import sqlalchemy as sa\n",
    "from sqlalchemy import create_engine\n",
    "import pymysql as pymysql\n",
    "import matplotlib.pyplot as plt\n",
    "import seaborn as sns\n",
    "from python.createdb import CreateDB as createdb\n",
    "from python.createtable import CreateTable as createtable\n",
    "from python.stations import Stations as stations\n",
    "from python.import_data import Import_Data as import_data\n",
    "from python.writedb import WriteDB as write"
   ]
  },
  {
   "cell_type": "code",
   "execution_count": 2,
   "metadata": {},
   "outputs": [
    {
     "name": "stdout",
     "output_type": "stream",
     "text": [
      "Engine created\n",
      "Engine created\n",
      "Engine created\n",
      "Engine created\n",
      "Engine created\n",
      "Engine created\n"
     ]
    }
   ],
   "source": [
    "\n",
    "# List of weather stations and the number of rows to skip in the data file\n",
    "weather_stations = [\n",
    "     [{\"athenry\" :1875}, 17],\n",
    "     [{\"cork_airport\" : 3904}, 23],\n",
    "     [{\"shannon_airport\" : 518}, 23],\n",
    "     [{\"dublin_airport\" : 532}, 23],\n",
    "     [{\"mullingar\": 875}, 17],\n",
    "     [{\"gurteen\" : 1475}, 17]\n",
    "]\n",
    "\n",
    "# Create the database to store the downloaded data\n",
    "db = createdb()\n",
    "\n",
    "#Create an instance of the CreateTable class to create the tables in the database\n",
    "tables = createtable()\n",
    "\n",
    "# Create the tables in the database\n",
    "for i in weather_stations:\n",
    "    for name, id in i[0].items():\n",
    "       skiprows = i[1]\n",
    "       tables.create_table(name, skiprows)\n",
    "\n",
    "# Create an instatnce of the import data class to import the data into the database\n",
    "'''\n",
    "data = import_data()\n",
    "\n",
    "Import the data from the weather stations\n",
    "for i in weather_stations:\n",
    "    for name, id in i[0].items():\n",
    "        skiprows = i[1]\n",
    "        data.import_data(name, id, skiprows)\n",
    "'''\n",
    "\n",
    "#Create an instance of the write class to write the data to a database \n",
    "write = write()\n",
    "\n",
    "# Write the data to the database using the station name as the table name\n",
    "for i in weather_stations:\n",
    "    for name, id in i[0].items():\n",
    "        skiprows = i[1]\n",
    "        write.write_db(name, id , skiprows)\n"
   ]
  },
  {
   "cell_type": "code",
   "execution_count": 8,
   "metadata": {},
   "outputs": [],
   "source": [
    "#Test the database by querying the data\n",
    "\n"
   ]
  }
 ],
 "metadata": {
  "kernelspec": {
   "display_name": "base",
   "language": "python",
   "name": "python3"
  },
  "language_info": {
   "codemirror_mode": {
    "name": "ipython",
    "version": 3
   },
   "file_extension": ".py",
   "mimetype": "text/x-python",
   "name": "python",
   "nbconvert_exporter": "python",
   "pygments_lexer": "ipython3",
   "version": "3.12.7"
  }
 },
 "nbformat": 4,
 "nbformat_minor": 2
}
