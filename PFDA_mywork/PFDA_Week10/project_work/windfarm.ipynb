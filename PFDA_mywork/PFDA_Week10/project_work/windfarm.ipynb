{
 "cells": [
  {
   "cell_type": "markdown",
   "metadata": {},
   "source": [
    "### Import the weather information for a number of weather stations.\n",
    "\n"
   ]
  },
  {
   "cell_type": "code",
   "execution_count": 1,
   "metadata": {},
   "outputs": [],
   "source": [
    "import pandas as pd\n",
    "import numpy as np\n",
    "import mysql.connector\n",
    "import sqlalchemy as sa\n",
    "from sqlalchemy import create_engine\n",
    "import pymysql as pymysql\n",
    "import matplotlib.pyplot as plt\n",
    "import seaborn as sns\n",
    "from python.createdb import CreateDB as createdb\n",
    "from python.createtable import CreateTable as createtable\n",
    "from python.stations import Stations as stations\n",
    "from python.import_data import Import_Data as import_data\n",
    "from python.writedb import WriteDB as write\n",
    "from python.testdb import TestDB as testdb"
   ]
  },
  {
   "cell_type": "code",
   "execution_count": null,
   "metadata": {},
   "outputs": [
    {
     "name": "stdout",
     "output_type": "stream",
     "text": [
      "Engine created\n",
      "Engine created\n",
      "Engine created\n",
      "Engine created\n",
      "Engine created\n",
      "Engine created\n"
     ]
    }
   ],
   "source": [
    "\n",
    "# List of weather stations and the number of rows to skip in the data file\n",
    "weather_stations = [\n",
    "     [{\"athenry\" :1875}, 17],\n",
    "     [{\"cork_airport\" : 3904}, 23],\n",
    "     [{\"shannon_airport\" : 518}, 23],\n",
    "     [{\"dublin_airport\" : 532}, 23],\n",
    "     [{\"mullingar\": 875}, 17],\n",
    "     [{\"gurteen\" : 1475}, 17]\n",
    "]\n",
    "\n",
    "# Create the database to store the downloaded data\n",
    "'''\n",
    "db = createdb()\n",
    "\n",
    "#Create an instance of the CreateTable class to create the tables in the database\n",
    "tables = createtable()\n",
    "\n",
    "# Create the tables in the database\n",
    "for i in weather_stations:\n",
    "    for name, id in i[0].items():\n",
    "       skiprows = i[1]\n",
    "       tables.create_table(name, skiprows)\n",
    "\n",
    "# Create an instatnce of the import data class to import the data into the data folder\n",
    "# Folder has being created so commenting out to stop it being rerun again and again\n",
    "'''\n",
    "'''\n",
    "data = import_data()\n",
    "\n",
    "Import the data from the weather stations\n",
    "for i in weather_stations:\n",
    "    for name, id in i[0].items():\n",
    "        skiprows = i[1]\n",
    "        data.import_data(name, id, skiprows)\n",
    "'''\n",
    "\n",
    "#Create an instance of the write class to write the data to a database \n",
    "#As above database has being created so commenting out to stop it being rerun again and again\n",
    "#(Takes 4 minutes to load data to sql database)\n",
    "\n",
    "write = write()\n",
    "\n",
    "# Write the data to the database using the station name as the table name\n",
    "for i in weather_stations:\n",
    "    for name, id in i[0].items():\n",
    "        skiprows = i[1]\n",
    "        write.write_db(name, id , skiprows)\n",
    "\n"
   ]
  },
  {
   "cell_type": "code",
   "execution_count": 3,
   "metadata": {},
   "outputs": [
    {
     "name": "stdout",
     "output_type": "stream",
     "text": [
      "('01-jan-1962 01:00', 8, None, 0, -1.1, 0, -1.3, -1.6, 5.3, 94.0, 1016.0, 1, 14, 1, 340, 2, 0, None, 30000.0, 999.0, 2.0)\n",
      "('01-jan-1962 02:00', 8, None, 0, -1.1, 0, -1.3, -1.6, 5.3, 94.0, 1016.5, 1, 10, 1, 340, 3, 1, None, 30000.0, 20.0, 7.0)\n",
      "('01-jan-1962 03:00', 8, None, 0, -1.0, 0, -1.2, -1.6, 5.3, 94.0, 1016.7, 1, 12, 1, 320, 1, 1, None, 30000.0, 999.0, 3.0)\n",
      "('01-jan-1962 04:00', 8, None, 0, -1.6, 0, -1.8, -2.2, 5.1, 94.0, 1017.2, 1, 8, 1, 330, 1, 0, None, 30000.0, 999.0, 1.0)\n",
      "('01-jan-1962 05:00', 8, None, 0, -2.1, 0, -2.3, -3.3, 4.8, 93.0, 1018.0, 1, 11, 1, 320, 1, 0, None, 30000.0, 999.0, 0.0)\n",
      "('01-jan-1962 06:00', 8, None, 0, -2.1, 0, -2.3, -3.3, 4.9, 93.0, 1018.1, 1, 11, 1, 330, 2, 1, None, 30000.0, 999.0, 0.0)\n",
      "('01-jan-1962 07:00', 8, None, 0, -2.2, 0, -2.4, -3.3, 4.8, 93.0, 1018.8, 1, 11, 1, 340, 2, 0, None, 30000.0, 999.0, 0.0)\n",
      "('01-jan-1962 08:00', 8, None, 0, -1.6, 0, -1.9, -2.7, 4.9, 92.0, 1019.0, 1, 14, 1, 340, 2, 0, None, 30000.0, 999.0, 0.0)\n",
      "('01-jan-1962 09:00', 8, None, 0, -1.1, 0, -1.6, -2.7, 5.0, 89.0, 1019.7, 1, 12, 1, 340, 3, 0, None, 30000.0, 999.0, 1.0)\n",
      "('01-jan-1962 10:00', 8, None, 0, -1.5, 0, -1.8, -2.7, 5.0, 92.0, 1020.5, 1, 7, 1, 340, 2, 0, None, 40000.0, 999.0, 1.0)\n",
      "('01-jan-1962 11:00', 8, None, 0, -0.6, 0, -0.9, -1.6, 5.4, 92.0, 1021.0, 1, 11, 1, 330, 2, 0, None, 40000.0, 999.0, 1.0)\n",
      "('01-jan-1962 12:00', 8, None, 0, 0.6, 0, -0.2, -2.2, 5.3, 83.0, 1020.4, 1, 8, 1, 340, 2, 0, None, 40000.0, 999.0, 1.0)\n",
      "('01-jan-1962 13:00', 8, None, 0, 1.6, 0, 0.7, -1.1, 5.8, 83.0, 1020.0, 1, 9, 1, 340, 2, 0, None, 40000.0, 999.0, 1.0)\n",
      "('01-jan-1962 14:00', 8, None, 0, 2.3, 0, 1.5, 0.0, 6.2, 85.0, 1020.2, 1, 10, 1, 350, 2, 0, None, 40000.0, 999.0, 1.0)\n",
      "('01-jan-1962 15:00', 8, None, 0, 1.8, 0, 0.3, -2.7, 5.1, 73.0, 1020.2, 1, 9, 1, 350, 2, 0, None, 40000.0, 999.0, 1.0)\n",
      "('01-jan-1962 16:00', 8, None, 0, 1.6, 0, 0.7, -0.5, 5.8, 85.0, 1020.4, 1, 10, 1, 340, 2, 0, None, 40000.0, 999.0, 1.0)\n",
      "('01-jan-1962 17:00', 8, None, 0, 0.2, 0, -0.1, -1.1, 5.8, 93.0, 1020.9, 1, 10, 1, 340, 2, 0, None, 40000.0, 999.0, 1.0)\n",
      "('01-jan-1962 18:00', 8, None, 0, -0.5, 0, -0.9, -1.6, 5.4, 92.0, 1021.7, 1, 6, 1, 350, 2, 0, None, 30000.0, 999.0, 1.0)\n",
      "('01-jan-1962 19:00', 8, None, 0, -1.5, 0, -1.6, -2.2, 5.3, 96.0, 1022.1, 1, 6, 1, 340, 1, 0, None, 24000.0, 999.0, 0.0)\n",
      "('01-jan-1962 20:00', 8, None, 0, -1.6, 0, -1.7, -2.2, 5.2, 96.0, 1022.8, 1, 6, 1, 330, 2, 0, None, 24000.0, 999.0, 0.0)\n"
     ]
    }
   ],
   "source": [
    "#Test the database by querying the data\n",
    "\n",
    "test = testdb()\n",
    "\n",
    "#Test the database by querying the data\n",
    "test.test_db('cork_airport')"
   ]
  },
  {
   "cell_type": "code",
   "execution_count": null,
   "metadata": {},
   "outputs": [],
   "source": []
  }
 ],
 "metadata": {
  "kernelspec": {
   "display_name": "base",
   "language": "python",
   "name": "python3"
  },
  "language_info": {
   "codemirror_mode": {
    "name": "ipython",
    "version": 3
   },
   "file_extension": ".py",
   "mimetype": "text/x-python",
   "name": "python",
   "nbconvert_exporter": "python",
   "pygments_lexer": "ipython3",
   "version": "3.12.7"
  }
 },
 "nbformat": 4,
 "nbformat_minor": 2
}
